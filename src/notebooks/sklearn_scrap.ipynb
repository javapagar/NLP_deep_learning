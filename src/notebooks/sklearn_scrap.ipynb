{
 "metadata": {
  "language_info": {
   "codemirror_mode": {
    "name": "ipython",
    "version": 3
   },
   "file_extension": ".py",
   "mimetype": "text/x-python",
   "name": "python",
   "nbconvert_exporter": "python",
   "pygments_lexer": "ipython3",
   "version": "3.8.5"
  },
  "orig_nbformat": 2,
  "kernelspec": {
   "name": "python385jvsc74a57bd023cf5e3c52ba4582b557c38c6f7215ea95d270dcb8c0a4a03826a3be328d56af",
   "display_name": "Python 3.8.5 64-bit ('base': conda)"
  }
 },
 "nbformat": 4,
 "nbformat_minor": 2,
 "cells": [
  {
   "source": [
    "# Manejo de datos scrapeados de Sklearn user guide\n",
    "\n",
    "Estudio de los datos scrapeados de la guia de usuario de Scikit-learn [https://scikit-learn.org/stable/user_guide.html](https://scikit-learn.org/stable/user_guide.html)\n",
    "\n",
    "Cargo los datos de un archivo pickle previamente descargado por un script de scrapping en Python."
   ],
   "cell_type": "markdown",
   "metadata": {}
  },
  {
   "cell_type": "code",
   "execution_count": 228,
   "metadata": {},
   "outputs": [
    {
     "output_type": "stream",
     "name": "stdout",
     "text": [
      "<class 'pandas.core.frame.DataFrame'>\nRangeIndex: 649 entries, 0 to 648\nData columns (total 6 columns):\n #   Column   Non-Null Count  Dtype \n---  ------   --------------  ----- \n 0   level0   649 non-null    object\n 1   level1   649 non-null    object\n 2   content  649 non-null    object\n 3   level2   592 non-null    object\n 4   level3   344 non-null    object\n 5   level4   58 non-null     object\ndtypes: object(6)\nmemory usage: 30.5+ KB\n"
     ]
    }
   ],
   "source": [
    "import pickle\n",
    "import numpy as np\n",
    "\n",
    "with open('sklearn_guide.plk','rb') as rick:\n",
    "    df_guide= pickle.load(rick)\n",
    "df_guide.info()"
   ]
  },
  {
   "cell_type": "code",
   "execution_count": 229,
   "metadata": {},
   "outputs": [
    {
     "output_type": "execute_result",
     "data": {
      "text/plain": [
       "                level0                               level1  \\\n",
       "0  Supervised learning  Neural network models (supervised)¶   \n",
       "1  Supervised learning                       Linear Models¶   \n",
       "2  Supervised learning                       Linear Models¶   \n",
       "3  Supervised learning                       Linear Models¶   \n",
       "4  Supervised learning                       Linear Models¶   \n",
       "\n",
       "                                             content  \\\n",
       "0  The following are a set of methods intended fo...   \n",
       "1  It is possible to constrain all the coefficien...   \n",
       "2  The least squares solution is computed using t...   \n",
       "3  LinearRegression fits a linear model with coef...   \n",
       "4  Ridge regression addresses some of the problem...   \n",
       "\n",
       "                                 level2                              level3  \\\n",
       "0                                   NaN                                 NaN   \n",
       "1               Ordinary Least Squares¶         Non-Negative Least Squares¶   \n",
       "2               Ordinary Least Squares¶  Ordinary Least Squares Complexity¶   \n",
       "3               Ordinary Least Squares¶                                 NaN   \n",
       "4  Ridge regression and classification¶                         Regression¶   \n",
       "\n",
       "  level4  \n",
       "0    NaN  \n",
       "1    NaN  \n",
       "2    NaN  \n",
       "3    NaN  \n",
       "4    NaN  "
      ],
      "text/html": "<div>\n<style scoped>\n    .dataframe tbody tr th:only-of-type {\n        vertical-align: middle;\n    }\n\n    .dataframe tbody tr th {\n        vertical-align: top;\n    }\n\n    .dataframe thead th {\n        text-align: right;\n    }\n</style>\n<table border=\"1\" class=\"dataframe\">\n  <thead>\n    <tr style=\"text-align: right;\">\n      <th></th>\n      <th>level0</th>\n      <th>level1</th>\n      <th>content</th>\n      <th>level2</th>\n      <th>level3</th>\n      <th>level4</th>\n    </tr>\n  </thead>\n  <tbody>\n    <tr>\n      <th>0</th>\n      <td>Supervised learning</td>\n      <td>Neural network models (supervised)¶</td>\n      <td>The following are a set of methods intended fo...</td>\n      <td>NaN</td>\n      <td>NaN</td>\n      <td>NaN</td>\n    </tr>\n    <tr>\n      <th>1</th>\n      <td>Supervised learning</td>\n      <td>Linear Models¶</td>\n      <td>It is possible to constrain all the coefficien...</td>\n      <td>Ordinary Least Squares¶</td>\n      <td>Non-Negative Least Squares¶</td>\n      <td>NaN</td>\n    </tr>\n    <tr>\n      <th>2</th>\n      <td>Supervised learning</td>\n      <td>Linear Models¶</td>\n      <td>The least squares solution is computed using t...</td>\n      <td>Ordinary Least Squares¶</td>\n      <td>Ordinary Least Squares Complexity¶</td>\n      <td>NaN</td>\n    </tr>\n    <tr>\n      <th>3</th>\n      <td>Supervised learning</td>\n      <td>Linear Models¶</td>\n      <td>LinearRegression fits a linear model with coef...</td>\n      <td>Ordinary Least Squares¶</td>\n      <td>NaN</td>\n      <td>NaN</td>\n    </tr>\n    <tr>\n      <th>4</th>\n      <td>Supervised learning</td>\n      <td>Linear Models¶</td>\n      <td>Ridge regression addresses some of the problem...</td>\n      <td>Ridge regression and classification¶</td>\n      <td>Regression¶</td>\n      <td>NaN</td>\n    </tr>\n  </tbody>\n</table>\n</div>"
     },
     "metadata": {},
     "execution_count": 229
    }
   ],
   "source": [
    "df_guide.head()"
   ]
  },
  {
   "source": [
    "## Pretratamiento con spacy"
   ],
   "cell_type": "markdown",
   "metadata": {}
  },
  {
   "cell_type": "code",
   "execution_count": 6,
   "metadata": {},
   "outputs": [],
   "source": [
    "#!python -m spacy download en_core_web_sm"
   ]
  },
  {
   "cell_type": "code",
   "execution_count": 217,
   "metadata": {},
   "outputs": [
    {
     "output_type": "execute_result",
     "data": {
      "text/plain": [
       "(649, 5)"
      ]
     },
     "metadata": {},
     "execution_count": 217
    }
   ],
   "source": [
    "import spacy\n",
    "nlp = spacy.load(\"en_core_web_sm\")\n",
    "df_guide.shape"
   ]
  },
  {
   "cell_type": "code",
   "execution_count": 231,
   "metadata": {},
   "outputs": [],
   "source": [
    "\n",
    "vocabulary = []\n",
    "vocabulary_lemma=[]\n",
    "Vocabulary_no_stop = []\n",
    "level1_class = []\n",
    "level2_class = []\n",
    "\n",
    "for i,row in df_guide.iterrows():\n",
    "    text = row.loc['level1'] + row.loc['content']\n",
    "    doc = nlp(text)#uno pregunta y comentario\n",
    "    content = []\n",
    "    content_lemma = []\n",
    "    content_no_stop = []\n",
    "    for token in doc:\n",
    "        if (token.is_alpha or token.is_digit) and not token.is_stop:#limpio simbolos de puntuación, me quedo con caracteres y números\n",
    "            \n",
    "            content.append(token.text.lower())\n",
    "            content_lemma.append(token.lemma_.lower())\n",
    "    \n",
    "    vocabulary.append(' '.join(content))\n",
    "    vocabulary_lemma.append(' '.join(content_lemma))\n",
    "\n",
    " \n",
    "    level1_class.append(row[0])\n",
    "    level2_class.append(row[1].replace('¶',''))\n",
    "\n"
   ]
  },
  {
   "cell_type": "code",
   "execution_count": 232,
   "metadata": {
    "tags": []
   },
   "outputs": [
    {
     "output_type": "stream",
     "name": "stdout",
     "text": [
      "linear possible constrain coefficients non negative useful represent physical naturally non negative quantities frequency counts prices goods linearregression accepts boolean positive parameter set true non negative squares applied example\nlinear possible constrain coefficient non negative useful represent physical naturally non negative quantity frequency count price good linearregression accept boolean positive parameter set true non negative squares apply example\nSupervised learning\n49\n"
     ]
    }
   ],
   "source": [
    "print(vocabulary[1])\n",
    "print(vocabulary_lemma[1])\n",
    "print(level1_class[1])\n",
    "print(len(set(level2_class)))\n",
    "    "
   ]
  },
  {
   "cell_type": "code",
   "execution_count": 233,
   "metadata": {},
   "outputs": [],
   "source": [
    "from sklearn.feature_extraction.text import CountVectorizer\n",
    "\n",
    "\n",
    "cv = CountVectorizer(binary = True,\n",
    "                    ngram_range=(1,3))\n",
    "\n",
    "X_count = cv.fit_transform(vocabulary)\n",
    "X_count_lemma = cv.fit_transform(vocabulary_lemma)\n",
    "\n",
    "\n"
   ]
  },
  {
   "cell_type": "code",
   "execution_count": 234,
   "metadata": {},
   "outputs": [],
   "source": [
    "from sklearn.feature_extraction.text import TfidfVectorizer\n",
    "\n",
    "ctfid = TfidfVectorizer(\n",
    "                    ngram_range=(1,3))\n",
    "\n",
    "X_tfid = ctfid.fit_transform(vocabulary)\n",
    "X_tfid_lemma = ctfid.fit_transform(vocabulary_lemma)"
   ]
  },
  {
   "cell_type": "code",
   "execution_count": 235,
   "metadata": {},
   "outputs": [],
   "source": [
    "from sklearn.preprocessing import LabelEncoder\n",
    "lbl_encoder_l1 = LabelEncoder()\n",
    "lbl_encoder_l2 = LabelEncoder()\n",
    "\n",
    "y_level1 = lbl_encoder_l1.fit_transform(level1_class)\n",
    "y_level2 = lbl_encoder_l2.fit_transform(level2_class)\n"
   ]
  },
  {
   "cell_type": "code",
   "execution_count": 236,
   "metadata": {},
   "outputs": [],
   "source": [
    "from sklearn.model_selection import train_test_split\n",
    "\n",
    "\n",
    "X_train_l1, X_test_l1, y_train_l1, y_test_l1 = train_test_split(X_tfid_lemma,y_level1,random_state=42,shuffle = True)\n",
    "\n",
    "X_train_l2, X_test_l2, y_train_l2, y_test_l2 = train_test_split(X_tfid_lemma,y_level2,random_state=42,shuffle = True)"
   ]
  },
  {
   "source": [
    "Level2:\n",
    "\n",
    "X_count -> 0,4969\n",
    "\n",
    "X_count_lemma -> 0,5030\n",
    "\n",
    "X_tfid -> 0,5030\n",
    "\n",
    "X_tfid_lemma -> 0,5153\n",
    "\n",
    "Level1:\n",
    "\n",
    "X_tfid_lemma -> 0,7975\n",
    "\n",
    "## Búsqueda de modelos"
   ],
   "cell_type": "markdown",
   "metadata": {}
  },
  {
   "cell_type": "code",
   "execution_count": 240,
   "metadata": {},
   "outputs": [],
   "source": [
    "from sklearn.model_selection import GridSearchCV\n",
    "\n",
    "def train_model(model,train,target):\n",
    "    mod = model\n",
    "\n",
    "    params = {'C':[0.01,0.05,0.25,0.5,1]}\n",
    "\n",
    "    grid = GridSearchCV(mod,params,cv=5)\n",
    "    grid.fit(train,target)\n",
    "\n",
    "    return grid.best_estimator_"
   ]
  },
  {
   "cell_type": "code",
   "execution_count": 238,
   "metadata": {},
   "outputs": [
    {
     "output_type": "stream",
     "name": "stderr",
     "text": [
      "C:\\Users\\Javier\\anaconda3\\lib\\site-packages\\sklearn\\model_selection\\_split.py:666: UserWarning: The least populated class in y has only 4 members, which is less than n_splits=5.\n",
      "  warnings.warn((\"The least populated class in y has only %d\"\n",
      "l1 0.852760736196319\n",
      "C:\\Users\\Javier\\anaconda3\\lib\\site-packages\\sklearn\\model_selection\\_split.py:666: UserWarning: The least populated class in y has only 2 members, which is less than n_splits=5.\n",
      "  warnings.warn((\"The least populated class in y has only %d\"\n",
      "l2 0.6932515337423313\n"
     ]
    }
   ],
   "source": [
    "\n",
    "from sklearn.svm import LinearSVC\n",
    "\n",
    "svm_l1 = LinearSVC()\n",
    "\n",
    "best_svm_l1= train_model(svm_l1,X_train_l1,y_train_l1)\n",
    "\n",
    "predict = best_svm_l1.predict(X_test_l1)\n",
    "\n",
    "print('l1',best_svm_l1.score(X_test_l1,y_test_l1))\n",
    "\n",
    "svm_l2 = LinearSVC()\n",
    "\n",
    "best_svm_l2= train_model(svm_l2,X_train_l2,y_train_l2)\n",
    "\n",
    "predict = best_svm_l2.predict(X_test_l2)\n",
    "\n",
    "print('l2',best_svm_l2.score(X_test_l2,y_test_l2))"
   ]
  },
  {
   "source": [
    "Entreno el modelo con todos los datos"
   ],
   "cell_type": "markdown",
   "metadata": {}
  },
  {
   "cell_type": "code",
   "execution_count": 245,
   "metadata": {},
   "outputs": [
    {
     "output_type": "stream",
     "name": "stderr",
     "text": [
      "C:\\Users\\Javier\\anaconda3\\lib\\site-packages\\sklearn\\model_selection\\_split.py:666: UserWarning: The least populated class in y has only 4 members, which is less than n_splits=5.\n",
      "  warnings.warn((\"The least populated class in y has only %d\"\n",
      "C:\\Users\\Javier\\anaconda3\\lib\\site-packages\\sklearn\\model_selection\\_split.py:666: UserWarning: The least populated class in y has only 2 members, which is less than n_splits=5.\n",
      "  warnings.warn((\"The least populated class in y has only %d\"\n"
     ]
    }
   ],
   "source": [
    "from sklearn.svm import LinearSVC\n",
    "\n",
    "svm_l1 = LinearSVC()\n",
    "\n",
    "best_svm_l1= train_model(svm_l1,X_tfid_lemma,y_level1)\n",
    "\n",
    "svm_l2 = LinearSVC()\n",
    "\n",
    "best_svm_l2= train_model(svm_l2,X_tfid_lemma,y_level2)"
   ]
  },
  {
   "cell_type": "code",
   "execution_count": 250,
   "metadata": {},
   "outputs": [
    {
     "output_type": "stream",
     "name": "stdout",
     "text": [
      "['Unsupervised learning'] ['Novelty and Outlier Detection']\n"
     ]
    }
   ],
   "source": [
    "def cleanPipeline(text, vectorizer,lemma=True):\n",
    "    doc = nlp(text)#uno pregunta y comentario\n",
    "    content = []\n",
    "    for token in doc:\n",
    "        if (token.is_alpha or token.is_digit) and not token.is_stop:#limpio simbolos de puntuación, me quedo con caracteres y números\n",
    "            if not lemma:\n",
    "                content.append(token.text.lower())\n",
    "            else:\n",
    "                content.append(token.lemma_.lower())\n",
    "        resp = ' '.join(content)\n",
    "    return vectorizer.transform([resp])\n",
    "\n",
    "inp = input()\n",
    "vector = cleanPipeline(inp,ctfid)\n",
    "prediction_l1 = best_svm_l1.predict(vector)\n",
    "tag_l1 = lbl_encoder_l1.inverse_transform(prediction_l1)\n",
    "l1 = cleanPipeline(tag_l1[0] + ' ' + inp,ctfid)\n",
    "prediction_l2 = best_svm_l2.predict(vector)\n",
    "tag_l2 = lbl_encoder_l2.inverse_transform(prediction_l2)\n",
    "print(tag_l1,tag_l2)"
   ]
  },
  {
   "cell_type": "code",
   "execution_count": null,
   "metadata": {},
   "outputs": [],
   "source": []
  }
 ]
}