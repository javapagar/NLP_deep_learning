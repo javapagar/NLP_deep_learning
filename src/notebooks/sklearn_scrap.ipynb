{
 "metadata": {
  "language_info": {
   "codemirror_mode": {
    "name": "ipython",
    "version": 3
   },
   "file_extension": ".py",
   "mimetype": "text/x-python",
   "name": "python",
   "nbconvert_exporter": "python",
   "pygments_lexer": "ipython3",
   "version": "3.8.5"
  },
  "orig_nbformat": 2,
  "kernelspec": {
   "name": "python385jvsc74a57bd023cf5e3c52ba4582b557c38c6f7215ea95d270dcb8c0a4a03826a3be328d56af",
   "display_name": "Python 3.8.5 64-bit ('base': conda)"
  }
 },
 "nbformat": 4,
 "nbformat_minor": 2,
 "cells": [
  {
   "source": [
    "# Manejo de datos scrapeados de Sklearn user guide\n",
    "\n",
    "Estudio de los datos scrapeados de la guia de usuario de Scikit-learn [https://scikit-learn.org/stable/user_guide.html](https://scikit-learn.org/stable/user_guide.html)\n",
    "\n",
    "Cargo los datos de un archivo pickle previamente descargado por un script de scrapping en Python."
   ],
   "cell_type": "markdown",
   "metadata": {}
  },
  {
   "cell_type": "code",
   "execution_count": 5,
   "metadata": {},
   "outputs": [
    {
     "output_type": "stream",
     "name": "stdout",
     "text": [
      "<class 'pandas.core.frame.DataFrame'>\nRangeIndex: 297 entries, 0 to 296\nData columns (total 4 columns):\n #   Column   Non-Null Count  Dtype \n---  ------   --------------  ----- \n 0   level1   297 non-null    object\n 1   level2   297 non-null    object\n 2   level3   297 non-null    object\n 3   content  297 non-null    object\ndtypes: object(4)\nmemory usage: 9.4+ KB\n"
     ]
    }
   ],
   "source": [
    "import pickle\n",
    "\n",
    "with open('sklearn_guide.plk','rb') as rick:\n",
    "    df_guide = pickle.load(rick)\n",
    "\n",
    "df_guide.info()"
   ]
  },
  {
   "cell_type": "code",
   "execution_count": 7,
   "metadata": {},
   "outputs": [
    {
     "output_type": "execute_result",
     "data": {
      "text/plain": [
       "level1             Common pitfalls and recommended practices\n",
       "level2                                controlling-randomness\n",
       "level3                                                      \n",
       "content    Some scikit-learn objects are inherently rando...\n",
       "Name: 296, dtype: object"
      ]
     },
     "metadata": {},
     "execution_count": 7
    }
   ],
   "source": [
    "df_guide.iloc[-1]"
   ]
  },
  {
   "cell_type": "code",
   "execution_count": null,
   "metadata": {},
   "outputs": [],
   "source": []
  }
 ]
}