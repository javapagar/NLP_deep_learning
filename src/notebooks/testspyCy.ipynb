{
 "metadata": {
  "language_info": {
   "codemirror_mode": {
    "name": "ipython",
    "version": 3
   },
   "file_extension": ".py",
   "mimetype": "text/x-python",
   "name": "python",
   "nbconvert_exporter": "python",
   "pygments_lexer": "ipython3",
   "version": "3.8.5-final"
  },
  "orig_nbformat": 2,
  "kernelspec": {
   "name": "python3",
   "display_name": "Python 3.8.5 64-bit ('base': conda)",
   "metadata": {
    "interpreter": {
     "hash": "dca0ade3e726a953b501b15e8e990130d2b7799f14cfd9f4271676035ebe5511"
    }
   }
  }
 },
 "nbformat": 4,
 "nbformat_minor": 2,
 "cells": [
  {
   "cell_type": "code",
   "execution_count": 2,
   "metadata": {},
   "outputs": [],
   "source": [
    "#!pip install spacy\n",
    "#!python -m spacy download en_core_web_sm elglish language model\n",
    "#!pip install wikipedia"
   ]
  },
  {
   "cell_type": "code",
   "execution_count": 3,
   "metadata": {},
   "outputs": [
    {
     "output_type": "stream",
     "name": "stdout",
     "text": [
      "['\\n', 'Dave', 'watched', 'as', 'the', 'forest', 'burned', 'up', 'on', 'the', 'hill', ',', '\\n', 'only', 'a', 'few', 'miles', 'from', 'his', 'house', '.', 'The', 'car', 'had', '\\n', 'been', 'hastily', 'packed', 'and', 'Marta', 'was', 'inside', 'trying', 'to', 'round', '\\n', 'up', 'the', 'last', 'of', 'the', 'pets', '.', '\"', 'Where', 'could', 'she', 'be', '?', '\"', 'he', 'wondered', '\\n', 'as', 'he', 'continued', 'to', 'wait', 'for', 'Marta', 'to', 'appear', 'with', 'the', 'pets', '.', '\\n']\n"
     ]
    }
   ],
   "source": [
    "import spacy\n",
    "\n",
    "nlp = spacy.load(\"en_core_web_sm\")\n",
    "\n",
    "text = \"\"\"\n",
    "Dave watched as the forest burned up on the hill,\n",
    "only a few miles from his house. The car had\n",
    "been hastily packed and Marta was inside trying to round\n",
    "up the last of the pets. \"Where could she be?\" he wondered\n",
    "as he continued to wait for Marta to appear with the pets.\n",
    "\"\"\"\n",
    "\n",
    "doc = nlp(text)\n",
    "\n",
    "#tokenizacion\n",
    "print([token.text for token in doc])\n"
   ]
  },
  {
   "cell_type": "code",
   "execution_count": 4,
   "metadata": {},
   "outputs": [],
   "source": [
    "import wikipedia\n",
    "\n",
    "wiki = wikipedia.summary(\"Machine leaning\")\n",
    "with open(\"../testFiles/test.txt\",'w') as f:\n",
    "    f.write(wiki)"
   ]
  },
  {
   "cell_type": "code",
   "execution_count": 5,
   "metadata": {},
   "outputs": [
    {
     "output_type": "stream",
     "name": "stdout",
     "text": [
      "['Machine', 'learning', '(', 'ML', ')', 'is', 'the', 'study', 'of', 'computer', 'algorithms', 'that', 'improve', 'automatically', 'through', 'experience', 'and', 'by', 'the', 'use', 'of', 'data', '.', 'It', 'is', 'seen', 'as', 'a', 'part', 'of', 'artificial', 'intelligence', '.', 'Machine', 'learning', 'algorithms', 'build', 'a', 'model', 'based', 'on', 'sample', 'data', ',', 'known', 'as', '\"', 'training', 'data', '\"', ',', 'in', 'order', 'to', 'make', 'predictions', 'or', 'decisions', 'without', 'being', 'explicitly', 'programmed', 'to', 'do', 'so', '.', 'Machine', 'learning', 'algorithms', 'are', 'used', 'in', 'a', 'wide', 'variety', 'of', 'applications', ',', 'such', 'as', 'email', 'filtering', 'and', 'computer', 'vision', ',', 'where', 'it', 'is', 'difficult', 'or', 'unfeasible', 'to', 'develop', 'conventional', 'algorithms', 'to', 'perform', 'the', 'needed', 'tasks', '.', '\\n', 'A', 'subset', 'of', 'machine', 'learning', 'is', 'closely', 'related', 'to', 'computational', 'statistics', ',', 'which', 'focuses', 'on', 'making', 'predictions', 'using', 'computers', ';', 'but', 'not', 'all', 'machine', 'learning', 'is', 'statistical', 'learning', '.', 'The', 'study', 'of', 'mathematical', 'optimization', 'delivers', 'methods', ',', 'theory', 'and', 'application', 'domains', 'to', 'the', 'field', 'of', 'machine', 'learning', '.', 'Data', 'mining', 'is', 'a', 'related', 'field', 'of', 'study', ',', 'focusing', 'on', 'exploratory', 'data', 'analysis', 'through', 'unsupervised', 'learning', '.', 'In', 'its', 'application', 'across', 'business', 'problems', ',', 'machine', 'learning', 'is', 'also', 'referred', 'to', 'as', 'predictive', 'analytics', '.']\n"
     ]
    }
   ],
   "source": [
    "wiki = \"../testFiles/test.txt\"\n",
    "content = open(wiki).read()\n",
    "contentNlp = nlp(content)\n",
    "print([token.text for token in contentNlp])"
   ]
  },
  {
   "cell_type": "code",
   "execution_count": 6,
   "metadata": {},
   "outputs": [
    {
     "output_type": "execute_result",
     "data": {
      "text/plain": [
       "[Machine learning (ML) is the study of computer algorithms that improve automatically through experience and by the use of data.,\n",
       " It is seen as a part of artificial intelligence.,\n",
       " Machine learning algorithms build a model based on sample data, known as \"training data\", in order to make predictions or decisions without being explicitly programmed to do so.,\n",
       " Machine learning algorithms are used in a wide variety of applications, such as email filtering and computer vision, where it is difficult or unfeasible to develop conventional algorithms to perform the needed tasks.,\n",
       " ,\n",
       " A subset of machine learning is closely related to computational statistics, which focuses on making predictions using computers; but not all machine learning is statistical learning.,\n",
       " The study of mathematical optimization delivers methods, theory and application domains to the field of machine learning.,\n",
       " Data mining is a related field of study, focusing on exploratory data analysis through unsupervised learning.,\n",
       " In its application across business problems, machine learning is also referred to as predictive analytics.]"
      ]
     },
     "metadata": {},
     "execution_count": 6
    }
   ],
   "source": [
    "oraciones = list(contentNlp.sents)\n",
    "oraciones"
   ]
  },
  {
   "cell_type": "code",
   "execution_count": 7,
   "metadata": {},
   "outputs": [
    {
     "output_type": "stream",
     "name": "stdout",
     "text": [
      "Machine 0 Machine  True False False Xxxxx False\n",
      "learning 8 learning  True False False xxxx False\n",
      "( 17 ( False True False ( False\n",
      "ML 18 ML True False False XX False\n",
      ") 20 )  False True False ) False\n",
      "is 22 is  True False False xx True\n",
      "the 25 the  True False False xxx True\n",
      "study 29 study  True False False xxxx False\n",
      "of 35 of  True False False xx True\n",
      "computer 38 computer  True False False xxxx False\n",
      "algorithms 47 algorithms  True False False xxxx False\n",
      "that 58 that  True False False xxxx True\n",
      "improve 63 improve  True False False xxxx False\n",
      "automatically 71 automatically  True False False xxxx False\n",
      "through 85 through  True False False xxxx True\n",
      "experience 93 experience  True False False xxxx False\n",
      "and 104 and  True False False xxx True\n",
      "by 108 by  True False False xx True\n",
      "the 111 the  True False False xxx True\n",
      "use 115 use  True False False xxx False\n",
      "of 119 of  True False False xx True\n",
      "data 122 data True False False xxxx False\n",
      ". 126 .  False True False . False\n",
      "It 128 It  True False False Xx True\n",
      "is 131 is  True False False xx True\n",
      "seen 134 seen  True False False xxxx False\n",
      "as 139 as  True False False xx True\n",
      "a 142 a  True False False x True\n",
      "part 144 part  True False False xxxx True\n",
      "of 149 of  True False False xx True\n",
      "artificial 152 artificial  True False False xxxx False\n",
      "intelligence 163 intelligence True False False xxxx False\n",
      ". 175 .  False True False . False\n",
      "Machine 177 Machine  True False False Xxxxx False\n",
      "learning 185 learning  True False False xxxx False\n",
      "algorithms 194 algorithms  True False False xxxx False\n",
      "build 205 build  True False False xxxx False\n",
      "a 211 a  True False False x True\n",
      "model 213 model  True False False xxxx False\n",
      "based 219 based  True False False xxxx False\n",
      "on 225 on  True False False xx True\n",
      "sample 228 sample  True False False xxxx False\n",
      "data 235 data True False False xxxx False\n",
      ", 239 ,  False True False , False\n",
      "known 241 known  True False False xxxx False\n",
      "as 247 as  True False False xx True\n",
      "\" 250 \" False True False \" False\n",
      "training 251 training  True False False xxxx False\n",
      "data 260 data True False False xxxx False\n",
      "\" 264 \" False True False \" False\n",
      ", 265 ,  False True False , False\n",
      "in 267 in  True False False xx True\n",
      "order 270 order  True False False xxxx False\n",
      "to 276 to  True False False xx True\n",
      "make 279 make  True False False xxxx True\n",
      "predictions 284 predictions  True False False xxxx False\n",
      "or 296 or  True False False xx True\n",
      "decisions 299 decisions  True False False xxxx False\n",
      "without 309 without  True False False xxxx True\n",
      "being 317 being  True False False xxxx True\n",
      "explicitly 323 explicitly  True False False xxxx False\n",
      "programmed 334 programmed  True False False xxxx False\n",
      "to 345 to  True False False xx True\n",
      "do 348 do  True False False xx True\n",
      "so 351 so True False False xx True\n",
      ". 353 .  False True False . False\n",
      "Machine 355 Machine  True False False Xxxxx False\n",
      "learning 363 learning  True False False xxxx False\n",
      "algorithms 372 algorithms  True False False xxxx False\n",
      "are 383 are  True False False xxx True\n",
      "used 387 used  True False False xxxx True\n",
      "in 392 in  True False False xx True\n",
      "a 395 a  True False False x True\n",
      "wide 397 wide  True False False xxxx False\n",
      "variety 402 variety  True False False xxxx False\n",
      "of 410 of  True False False xx True\n",
      "applications 413 applications True False False xxxx False\n",
      ", 425 ,  False True False , False\n",
      "such 427 such  True False False xxxx True\n",
      "as 432 as  True False False xx True\n",
      "email 435 email  True False False xxxx False\n",
      "filtering 441 filtering  True False False xxxx False\n",
      "and 451 and  True False False xxx True\n",
      "computer 455 computer  True False False xxxx False\n",
      "vision 464 vision True False False xxxx False\n",
      ", 470 ,  False True False , False\n",
      "where 472 where  True False False xxxx True\n",
      "it 478 it  True False False xx True\n",
      "is 481 is  True False False xx True\n",
      "difficult 484 difficult  True False False xxxx False\n",
      "or 494 or  True False False xx True\n",
      "unfeasible 497 unfeasible  True False False xxxx False\n",
      "to 508 to  True False False xx True\n",
      "develop 511 develop  True False False xxxx False\n",
      "conventional 519 conventional  True False False xxxx False\n",
      "algorithms 532 algorithms  True False False xxxx False\n",
      "to 543 to  True False False xx True\n",
      "perform 546 perform  True False False xxxx False\n",
      "the 554 the  True False False xxx True\n",
      "needed 558 needed  True False False xxxx False\n",
      "tasks 565 tasks True False False xxxx False\n",
      ". 570 . False True False . False\n",
      "\n",
      " 571 \n",
      " False False True \n",
      " False\n",
      "A 572 A  True False False X True\n",
      "subset 574 subset  True False False xxxx False\n",
      "of 581 of  True False False xx True\n",
      "machine 584 machine  True False False xxxx False\n",
      "learning 592 learning  True False False xxxx False\n",
      "is 601 is  True False False xx True\n",
      "closely 604 closely  True False False xxxx False\n",
      "related 612 related  True False False xxxx False\n",
      "to 620 to  True False False xx True\n",
      "computational 623 computational  True False False xxxx False\n",
      "statistics 637 statistics True False False xxxx False\n",
      ", 647 ,  False True False , False\n",
      "which 649 which  True False False xxxx True\n",
      "focuses 655 focuses  True False False xxxx False\n",
      "on 663 on  True False False xx True\n",
      "making 666 making  True False False xxxx False\n",
      "predictions 673 predictions  True False False xxxx False\n",
      "using 685 using  True False False xxxx True\n",
      "computers 691 computers True False False xxxx False\n",
      "; 700 ;  False True False ; False\n",
      "but 702 but  True False False xxx True\n",
      "not 706 not  True False False xxx True\n",
      "all 710 all  True False False xxx True\n",
      "machine 714 machine  True False False xxxx False\n",
      "learning 722 learning  True False False xxxx False\n",
      "is 731 is  True False False xx True\n",
      "statistical 734 statistical  True False False xxxx False\n",
      "learning 746 learning True False False xxxx False\n",
      ". 754 .  False True False . False\n",
      "The 756 The  True False False Xxx True\n",
      "study 760 study  True False False xxxx False\n",
      "of 766 of  True False False xx True\n",
      "mathematical 769 mathematical  True False False xxxx False\n",
      "optimization 782 optimization  True False False xxxx False\n",
      "delivers 795 delivers  True False False xxxx False\n",
      "methods 804 methods True False False xxxx False\n",
      ", 811 ,  False True False , False\n",
      "theory 813 theory  True False False xxxx False\n",
      "and 820 and  True False False xxx True\n",
      "application 824 application  True False False xxxx False\n",
      "domains 836 domains  True False False xxxx False\n",
      "to 844 to  True False False xx True\n",
      "the 847 the  True False False xxx True\n",
      "field 851 field  True False False xxxx False\n",
      "of 857 of  True False False xx True\n",
      "machine 860 machine  True False False xxxx False\n",
      "learning 868 learning True False False xxxx False\n",
      ". 876 .  False True False . False\n",
      "Data 878 Data  True False False Xxxx False\n",
      "mining 883 mining  True False False xxxx False\n",
      "is 890 is  True False False xx True\n",
      "a 893 a  True False False x True\n",
      "related 895 related  True False False xxxx False\n",
      "field 903 field  True False False xxxx False\n",
      "of 909 of  True False False xx True\n",
      "study 912 study True False False xxxx False\n",
      ", 917 ,  False True False , False\n",
      "focusing 919 focusing  True False False xxxx False\n",
      "on 928 on  True False False xx True\n",
      "exploratory 931 exploratory  True False False xxxx False\n",
      "data 943 data  True False False xxxx False\n",
      "analysis 948 analysis  True False False xxxx False\n",
      "through 957 through  True False False xxxx True\n",
      "unsupervised 965 unsupervised  True False False xxxx False\n",
      "learning 978 learning True False False xxxx False\n",
      ". 986 .  False True False . False\n",
      "In 988 In  True False False Xx True\n",
      "its 991 its  True False False xxx True\n",
      "application 995 application  True False False xxxx False\n",
      "across 1007 across  True False False xxxx True\n",
      "business 1014 business  True False False xxxx False\n",
      "problems 1023 problems True False False xxxx False\n",
      ", 1031 ,  False True False , False\n",
      "machine 1033 machine  True False False xxxx False\n",
      "learning 1041 learning  True False False xxxx False\n",
      "is 1050 is  True False False xx True\n",
      "also 1053 also  True False False xxxx True\n",
      "referred 1058 referred  True False False xxxx False\n",
      "to 1067 to  True False False xx True\n",
      "as 1070 as  True False False xx True\n",
      "predictive 1073 predictive  True False False xxxx False\n",
      "analytics 1084 analytics True False False xxxx False\n",
      ". 1093 . False True False . False\n"
     ]
    }
   ],
   "source": [
    "for token in contentNlp:\n",
    "    print (token, token.idx, token.text_with_ws,\n",
    "           token.is_alpha, token.is_punct, token.is_space,\n",
    "            token.shape_, token.is_stop)"
   ]
  },
  {
   "cell_type": "code",
   "execution_count": 8,
   "metadata": {},
   "outputs": [
    {
     "output_type": "stream",
     "name": "stdout",
     "text": [
      "Machine machine\nlearning learning\n( (\nML ML\n) )\nis be\nthe the\nstudy study\nof of\ncomputer computer\nalgorithms algorithm\nthat that\nimprove improve\nautomatically automatically\nthrough through\nexperience experience\nand and\nby by\nthe the\nuse use\nof of\ndata datum\n. .\nIt it\nis be\nseen see\nas as\na a\npart part\nof of\nartificial artificial\nintelligence intelligence\n. .\nMachine machine\nlearning learn\nalgorithms algorithm\nbuild build\na a\nmodel model\nbased base\non on\nsample sample\ndata datum\n, ,\nknown know\nas as\n\" \"\ntraining training\ndata datum\n\" \"\n, ,\nin in\norder order\nto to\nmake make\npredictions prediction\nor or\ndecisions decision\nwithout without\nbeing be\nexplicitly explicitly\nprogrammed program\nto to\ndo do\nso so\n. .\nMachine machine\nlearning learn\nalgorithms algorithm\nare be\nused use\nin in\na a\nwide wide\nvariety variety\nof of\napplications application\n, ,\nsuch such\nas as\nemail email\nfiltering filtering\nand and\ncomputer computer\nvision vision\n, ,\nwhere where\nit it\nis be\ndifficult difficult\nor or\nunfeasible unfeasible\nto to\ndevelop develop\nconventional conventional\nalgorithms algorithm\nto to\nperform perform\nthe the\nneeded need\ntasks task\n. .\n\n \n\nA a\nsubset subset\nof of\nmachine machine\nlearning learning\nis be\nclosely closely\nrelated relate\nto to\ncomputational computational\nstatistics statistic\n, ,\nwhich which\nfocuses focus\non on\nmaking make\npredictions prediction\nusing use\ncomputers computer\n; ;\nbut but\nnot not\nall all\nmachine machine\nlearning learning\nis be\nstatistical statistical\nlearning learning\n. .\nThe the\nstudy study\nof of\nmathematical mathematical\noptimization optimization\ndelivers deliver\nmethods method\n, ,\ntheory theory\nand and\napplication application\ndomains domain\nto to\nthe the\nfield field\nof of\nmachine machine\nlearning learning\n. .\nData datum\nmining mining\nis be\na a\nrelated related\nfield field\nof of\nstudy study\n, ,\nfocusing focus\non on\nexploratory exploratory\ndata datum\nanalysis analysis\nthrough through\nunsupervised unsupervised\nlearning learning\n. .\nIn in\nits its\napplication application\nacross across\nbusiness business\nproblems problem\n, ,\nmachine machine\nlearning learning\nis be\nalso also\nreferred refer\nto to\nas as\npredictive predictive\nanalytics analytic\n. .\n"
     ]
    }
   ],
   "source": [
    "for token in contentNlp:\n",
    "    print (token, token.lemma_)"
   ]
  },
  {
   "cell_type": "code",
   "execution_count": 9,
   "metadata": {},
   "outputs": [
    {
     "output_type": "stream",
     "name": "stdout",
     "text": [
      "[('learning', 9), ('algorithms', 4), ('data', 4), ('machine', 4), ('Machine', 3), ('study', 3), ('computer', 2), ('predictions', 2), ('related', 2), ('application', 2)]\n"
     ]
    }
   ],
   "source": [
    "from collections import Counter\n",
    "words = [token.text for token in contentNlp if not token.is_punct and not token.is_stop]\n",
    "frec = Counter(words)\n",
    "print(frec.most_common(10))\n"
   ]
  },
  {
   "source": [
    "# Name Entity Recognition"
   ],
   "cell_type": "markdown",
   "metadata": {}
  },
  {
   "cell_type": "code",
   "execution_count": 10,
   "metadata": {},
   "outputs": [
    {
     "output_type": "stream",
     "name": "stdout",
     "text": [
      "[]\n"
     ]
    }
   ],
   "source": [
    "\n",
    "print(list(nlp(\" es TR el mejor\").ents))"
   ]
  }
 ]
}