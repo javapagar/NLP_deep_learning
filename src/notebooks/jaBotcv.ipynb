{
 "metadata": {
  "language_info": {
   "codemirror_mode": {
    "name": "ipython",
    "version": 3
   },
   "file_extension": ".py",
   "mimetype": "text/x-python",
   "name": "python",
   "nbconvert_exporter": "python",
   "pygments_lexer": "ipython3",
   "version": "3.8.5"
  },
  "orig_nbformat": 2,
  "kernelspec": {
   "name": "python385jvsc74a57bd023cf5e3c52ba4582b557c38c6f7215ea95d270dcb8c0a4a03826a3be328d56af",
   "display_name": "Python 3.8.5 64-bit ('base': conda)"
  }
 },
 "nbformat": 4,
 "nbformat_minor": 2,
 "cells": [
  {
   "source": [
    "# JaBot: chat bot para presentar mi CV\n",
    "\n",
    "A continuación, describiré los pasos para la construcción de un chatBot cuya función será contestar preguntas sobre mi CV.\n",
    "\n",
    "Cargo las librerias que utilizo:\n"
   ],
   "cell_type": "markdown",
   "metadata": {}
  },
  {
   "cell_type": "code",
   "execution_count": 144,
   "metadata": {},
   "outputs": [],
   "source": [
    "#!pip install spacy\n",
    "#!python -m spacy download es_core_news_sm"
   ]
  },
  {
   "source": [
    "import json\n",
    "import spacy"
   ],
   "cell_type": "code",
   "metadata": {},
   "execution_count": 1,
   "outputs": [
    {
     "output_type": "error",
     "ename": "ModuleNotFoundError",
     "evalue": "No module named 'spacy'",
     "traceback": [
      "\u001b[1;31m---------------------------------------------------------------------------\u001b[0m",
      "\u001b[1;31mModuleNotFoundError\u001b[0m                       Traceback (most recent call last)",
      "\u001b[1;32m<ipython-input-1-52f2d3e9fd73>\u001b[0m in \u001b[0;36m<module>\u001b[1;34m\u001b[0m\n\u001b[0;32m      1\u001b[0m \u001b[1;32mimport\u001b[0m \u001b[0mjson\u001b[0m\u001b[1;33m\u001b[0m\u001b[1;33m\u001b[0m\u001b[0m\n\u001b[1;32m----> 2\u001b[1;33m \u001b[1;32mimport\u001b[0m \u001b[0mspacy\u001b[0m\u001b[1;33m\u001b[0m\u001b[1;33m\u001b[0m\u001b[0m\n\u001b[0m",
      "\u001b[1;31mModuleNotFoundError\u001b[0m: No module named 'spacy'"
     ]
    }
   ]
  },
  {
   "source": [
    "## Obtención de datos\n",
    "\n",
    "Los datos que voy a utilizar se han construido de forma manual. He reunido una serie de preguntas o frases que mi robot podría recibir, y las he clasificado en función de una intención, por ejemplo, la etiqueta'Greetings' reunirá todas las cuestiones relacionadas con saludos. También se reunirán un listado de respuestas para cada intención, que se elegirán de forma aleatoria (idea: utilizar un algoritmo de similitud, como coseno, jaccard) y el bot la utilizará para contestar. Para estructurar esta información utilizaré el formato Json.\n",
    "\n",
    "Cargo los datos"
   ],
   "cell_type": "markdown",
   "metadata": {}
  },
  {
   "cell_type": "code",
   "execution_count": 146,
   "metadata": {},
   "outputs": [],
   "source": [
    "def cargar_json(path):\n",
    "    with open(path, encoding='utf-8') as file:\n",
    "        return json.load(file)\n",
    "\n",
    "data = cargar_json('../testFiles/intentsCV.json')\n",
    "training_sentences = []\n",
    "training_labels = []\n",
    "labels = []\n",
    "responses = []\n",
    "\n",
    "\n",
    "for intent in data['intents']:\n",
    "    for pattern in intent['patterns']:\n",
    "        training_sentences.append(pattern)\n",
    "        training_labels.append(intent['tag'])\n",
    "    responses.append(intent['responses'])\n",
    "    \n",
    "    if intent['tag'] not in labels:\n",
    "        labels.append(intent['tag'])\n",
    "        \n",
    "num_classes = len(labels)"
   ]
  },
  {
   "source": [
    "# limpieza de datos\n",
    "\n",
    "1. Limpiar simbolos de puntuación: sustituir por espacios o borrarlo\n",
    "2. lematizar\n",
    "3. Borrar stop words"
   ],
   "cell_type": "markdown",
   "metadata": {}
  },
  {
   "cell_type": "code",
   "execution_count": 147,
   "metadata": {},
   "outputs": [],
   "source": [
    "import unicodedata\n",
    "nlp = spacy.load(\"es_core_news_sm\")\n",
    "\n",
    "#tokenizacion\n",
    "def tokenizer(document):\n",
    "    return [token for token in nlp(document)]\n",
    "\n",
    "def clean_lemma(document,tokenize=True):\n",
    "    if tokenize:\n",
    "        return [remove_accented_chars(token.lemma_) for token in tokenizer(document) if token.is_alpha or token.is_digit]\n",
    "    else:\n",
    "        return ' '.join([remove_accented_chars(token.lemma_) for token in tokenizer(document) if token.is_alpha or token.is_digit])\n",
    "\n",
    "def tokenizer_list(document_list):\n",
    "    return [tokenizer(document) for document in document_list]\n",
    "\n",
    "def clean_lemma_list(document_list,tokenize=True):\n",
    "    return [clean_lemma(document,tokenize) for document in document_list]\n",
    "\n",
    "def remove_accented_chars(text):\n",
    "    new_text = unicodedata.normalize('NFKD', text).encode('ascii', 'ignore').decode('utf-8', 'ignore')\n",
    "    return new_text"
   ]
  },
  {
   "cell_type": "code",
   "execution_count": 148,
   "metadata": {},
   "outputs": [
    {
     "output_type": "execute_result",
     "data": {
      "text/plain": [
       "['Hi', 'hey']"
      ]
     },
     "metadata": {},
     "execution_count": 148
    }
   ],
   "source": [
    "sentences_list = clean_lemma_list(training_sentences,tokenize=False)\n",
    "sentences_list[:2]\n"
   ]
  },
  {
   "source": [
    "# Usar sklearn para convertir el texto a variables numéricas\n"
   ],
   "cell_type": "markdown",
   "metadata": {}
  },
  {
   "cell_type": "code",
   "execution_count": 149,
   "metadata": {},
   "outputs": [],
   "source": [
    "from sklearn.feature_extraction.text import CountVectorizer\n",
    "from sklearn.preprocessing import LabelEncoder"
   ]
  },
  {
   "cell_type": "code",
   "execution_count": 150,
   "metadata": {},
   "outputs": [],
   "source": [
    "cv = CountVectorizer(binary = True,\n",
    "                    ngram_range=(1,3))\n",
    "\n",
    "X_train = cv.fit_transform(sentences_list)\n",
    "\n",
    "X_train.shape, len(training_labels)\n",
    "lbl_encoder = LabelEncoder()\n",
    "\n",
    "y_test = lbl_encoder.fit_transform(training_labels)"
   ]
  },
  {
   "cell_type": "code",
   "execution_count": 151,
   "metadata": {},
   "outputs": [],
   "source": [
    "from sklearn.model_selection import GridSearchCV\n",
    "\n",
    "def train_model(model,train,target):\n",
    "    mod = model\n",
    "\n",
    "    params = {'C':[0.01,0.05,0.25,0.5,1]}\n",
    "\n",
    "    grid = GridSearchCV(mod,params,cv=5)\n",
    "    grid.fit(train,target)\n",
    "\n",
    "    return grid.best_estimator_"
   ]
  },
  {
   "cell_type": "code",
   "execution_count": 152,
   "metadata": {},
   "outputs": [
    {
     "output_type": "stream",
     "name": "stderr",
     "text": [
      "/opt/anaconda3/lib/python3.8/site-packages/sklearn/model_selection/_split.py:670: UserWarning: The least populated class in y has only 3 members, which is less than n_splits=5.\n  warnings.warn((\"The least populated class in y has only %d\"\n"
     ]
    }
   ],
   "source": [
    "from sklearn.svm import LinearSVC\n",
    "\n",
    "svm = LinearSVC()\n",
    "\n",
    "best_svm= train_model(svm,X_train,y_test)\n",
    "\n",
    "import pickle\n",
    "with open('svm.pickle', 'wb') as rick:\n",
    "    pickle.dump(best_train_model, rick, protocol=pickle.HIGHEST_PROTOCOL)"
   ]
  },
  {
   "cell_type": "code",
   "execution_count": 2,
   "metadata": {},
   "outputs": [
    {
     "output_type": "error",
     "ename": "NameError",
     "evalue": "name 'cargar_json' is not defined",
     "traceback": [
      "\u001b[1;31m---------------------------------------------------------------------------\u001b[0m",
      "\u001b[1;31mNameError\u001b[0m                                 Traceback (most recent call last)",
      "\u001b[1;32m<ipython-input-2-5ce52e8b2c3a>\u001b[0m in \u001b[0;36m<module>\u001b[1;34m\u001b[0m\n\u001b[1;32m----> 1\u001b[1;33m \u001b[0mdata\u001b[0m \u001b[1;33m=\u001b[0m \u001b[0mcargar_json\u001b[0m\u001b[1;33m(\u001b[0m\u001b[1;34m'../testFiles/intentsCV.json'\u001b[0m\u001b[1;33m)\u001b[0m\u001b[1;33m\u001b[0m\u001b[1;33m\u001b[0m\u001b[0m\n\u001b[0m\u001b[0;32m      2\u001b[0m \u001b[1;33m\u001b[0m\u001b[0m\n\u001b[0;32m      3\u001b[0m \u001b[1;33m\u001b[0m\u001b[0m\n\u001b[0;32m      4\u001b[0m \u001b[1;32mimport\u001b[0m \u001b[0mrandom\u001b[0m\u001b[1;33m\u001b[0m\u001b[1;33m\u001b[0m\u001b[0m\n\u001b[0;32m      5\u001b[0m \u001b[1;32mimport\u001b[0m \u001b[0mnumpy\u001b[0m \u001b[1;32mas\u001b[0m \u001b[0mnp\u001b[0m\u001b[1;33m\u001b[0m\u001b[1;33m\u001b[0m\u001b[0m\n",
      "\u001b[1;31mNameError\u001b[0m: name 'cargar_json' is not defined"
     ]
    }
   ],
   "source": [
    "data = cargar_json('../testFiles/intentsCV.json')\n",
    "\n",
    "\n",
    "import random\n",
    "import numpy as np\n",
    "while True:\n",
    "    print(\"User: \", end=\"\")\n",
    "    inp = input()\n",
    "    if inp.lower() == \"quit\":\n",
    "        break\n",
    "    input_text =  clean_lemma_list([inp],tokenize=False)\n",
    "    #print(input_text)\n",
    "    inp_code=cv.transform(input_text)\n",
    "    resp = best_svm.predict(inp_code)\n",
    "    \n",
    "    tag = lbl_encoder.inverse_transform(resp)\n",
    "\n",
    "    print(tag)\n",
    "\n",
    "    for i in data['intents']:\n",
    "        if i['tag'] == tag:\n",
    "            print(\"ChatBot:\", np.random.choice(i['responses']))"
   ]
  },
  {
   "cell_type": "code",
   "execution_count": null,
   "metadata": {},
   "outputs": [],
   "source": []
  }
 ]
}